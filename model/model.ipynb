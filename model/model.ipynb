{
 "cells": [
  {
   "cell_type": "code",
   "execution_count": 1,
   "metadata": {},
   "outputs": [],
   "source": [
    "import os\n",
    "import pandas as pd\n",
    "from flask import Flask, request, jsonify\n",
    "from sklearn.feature_extraction.text import TfidfVectorizer\n",
    "from sklearn.model_selection import train_test_split\n",
    "from sklearn.ensemble import RandomForestClassifier\n",
    "import joblib\n",
    "\n",
    "app = Flask(__name__)\n",
    "\n",
    "# File paths for different verticals\n",
    "file_paths = {\n",
    "    'Apparel & Fashion': r\"..\\content\\Apparel & Fashion.csv\",\n",
    "    'Dmart': r\"..\\content\\Dmart.csv\",\n",
    "    'Food': r\"..\\content\\Food Data.csv\",\n",
    "    'Gifts & Crafts': r\"..\\content\\Gifts & Crafts.csv\",\n",
    "    'Grocery': r\"..\\content\\Grocery Data.csv\",\n",
    "    'Meat': r\"..\\content\\Meat Data.csv\",\n",
    "    'Pharma': r\"..\\content\\Pharma Data.csv\",\n",
    "    'Security & Protection': r\"..\\content\\Security & Protection.csv\",\n",
    "    'Transportation': r\"..\\content\\Transportation.csv\"\n",
    "}\n",
    "\n",
    "# Load CSV files into DataFrames\n",
    "dataframes = {vertical: pd.read_csv(path) for vertical, path in file_paths.items()}\n",
    "\n",
    "# Function to train the Random Forest model on the given dataset\n",
    "def train_model(df, target_column):\n",
    "    vectorizer = TfidfVectorizer()\n",
    "    X = vectorizer.fit_transform(df['Product Name'].fillna(''))\n",
    "    y = df[target_column].astype(str)\n",
    "\n",
    "    X_train, X_test, y_train, y_test = train_test_split(X, y, test_size=0.2, random_state=42)\n",
    "    model = RandomForestClassifier()\n",
    "    model.fit(X_train, y_train)\n",
    "\n",
    "    return model, vectorizer\n",
    "\n",
    "# Train the model and vectorizer for each vertical\n",
    "models = {}\n",
    "vectorizers = {}\n",
    "for vertical, df in dataframes.items():\n",
    "    model, vectorizer = train_model(df, 'Category')\n",
    "    models[vertical] = model\n",
    "    vectorizers[vertical] = vectorizer\n",
    "\n",
    "# Save the models and vectorizers\n",
    "for vertical in file_paths.keys():\n",
    "    joblib.dump(models[vertical], f'random_forest_{vertical.replace(\" \", \"_\").lower()}.pkl')\n",
    "    joblib.dump(vectorizers[vertical], f'random_forest_vectorizer_{vertical.replace(\" \", \"_\").lower()}.pkl')"
   ]
  }
 ],
 "metadata": {
  "kernelspec": {
   "display_name": "Python 3",
   "language": "python",
   "name": "python3"
  },
  "language_info": {
   "codemirror_mode": {
    "name": "ipython",
    "version": 3
   },
   "file_extension": ".py",
   "mimetype": "text/x-python",
   "name": "python",
   "nbconvert_exporter": "python",
   "pygments_lexer": "ipython3",
   "version": "3.12.1"
  }
 },
 "nbformat": 4,
 "nbformat_minor": 2
}
